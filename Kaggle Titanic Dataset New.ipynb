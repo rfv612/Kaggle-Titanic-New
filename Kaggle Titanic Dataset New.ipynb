{
 "cells": [
  {
   "cell_type": "code",
   "execution_count": 1,
   "id": "30ae63ca",
   "metadata": {
    "_cell_guid": "b1076dfc-b9ad-4769-8c92-a6c4dae69d19",
    "_uuid": "8f2839f25d086af736a60e9eeb907d3b93b6e0e5",
    "execution": {
     "iopub.execute_input": "2021-08-08T13:34:35.910342Z",
     "iopub.status.busy": "2021-08-08T13:34:35.909623Z",
     "iopub.status.idle": "2021-08-08T13:34:35.914590Z",
     "shell.execute_reply": "2021-08-08T13:34:35.915204Z",
     "shell.execute_reply.started": "2021-08-08T13:32:53.329785Z"
    },
    "papermill": {
     "duration": 0.05265,
     "end_time": "2021-08-08T13:34:35.915507",
     "exception": false,
     "start_time": "2021-08-08T13:34:35.862857",
     "status": "completed"
    },
    "tags": []
   },
   "outputs": [
    {
     "name": "stdout",
     "output_type": "stream",
     "text": [
      "/kaggle/input/titanic/train.csv\n",
      "/kaggle/input/titanic/test.csv\n",
      "/kaggle/input/titanic/gender_submission.csv\n"
     ]
    }
   ],
   "source": [
    "# This Python 3 environment comes with many helpful analytics libraries installed\n",
    "# It is defined by the kaggle/python Docker image: https://github.com/kaggle/docker-python\n",
    "# For example, here's several helpful packages to load\n",
    "\n",
    "import numpy as np # linear algebra\n",
    "import pandas as pd # data processing, CSV file I/O (e.g. pd.read_csv)\n",
    "\n",
    "# Input data files are available in the read-only \"../input/\" directory\n",
    "# For example, running this (by clicking run or pressing Shift+Enter) will list all files under the input directory\n",
    "\n",
    "import os\n",
    "for dirname, _, filenames in os.walk('/kaggle/input'):\n",
    "    for filename in filenames:\n",
    "        print(os.path.join(dirname, filename))\n",
    "\n",
    "# You can write up to 20GB to the current directory (/kaggle/working/) that gets preserved as output when you create a version using \"Save & Run All\" \n",
    "# You can also write temporary files to /kaggle/temp/, but they won't be saved outside of the current session"
   ]
  },
  {
   "cell_type": "code",
   "execution_count": 2,
   "id": "20ba77da",
   "metadata": {
    "execution": {
     "iopub.execute_input": "2021-08-08T13:34:35.986602Z",
     "iopub.status.busy": "2021-08-08T13:34:35.985639Z",
     "iopub.status.idle": "2021-08-08T13:34:36.129787Z",
     "shell.execute_reply": "2021-08-08T13:34:36.130428Z",
     "shell.execute_reply.started": "2021-08-08T13:32:53.345370Z"
    },
    "papermill": {
     "duration": 0.180934,
     "end_time": "2021-08-08T13:34:36.130589",
     "exception": false,
     "start_time": "2021-08-08T13:34:35.949655",
     "status": "completed"
    },
    "tags": []
   },
   "outputs": [
    {
     "data": {
      "text/html": [
       "<div>\n",
       "<style scoped>\n",
       "    .dataframe tbody tr th:only-of-type {\n",
       "        vertical-align: middle;\n",
       "    }\n",
       "\n",
       "    .dataframe tbody tr th {\n",
       "        vertical-align: top;\n",
       "    }\n",
       "\n",
       "    .dataframe thead th {\n",
       "        text-align: right;\n",
       "    }\n",
       "</style>\n",
       "<table border=\"1\" class=\"dataframe\">\n",
       "  <thead>\n",
       "    <tr style=\"text-align: right;\">\n",
       "      <th></th>\n",
       "      <th>Survived</th>\n",
       "      <th>Pclass</th>\n",
       "      <th>Name</th>\n",
       "      <th>Sex</th>\n",
       "      <th>Age</th>\n",
       "      <th>SibSp</th>\n",
       "      <th>Parch</th>\n",
       "      <th>Ticket</th>\n",
       "      <th>Fare</th>\n",
       "      <th>Cabin</th>\n",
       "      <th>Embarked</th>\n",
       "    </tr>\n",
       "    <tr>\n",
       "      <th>PassengerId</th>\n",
       "      <th></th>\n",
       "      <th></th>\n",
       "      <th></th>\n",
       "      <th></th>\n",
       "      <th></th>\n",
       "      <th></th>\n",
       "      <th></th>\n",
       "      <th></th>\n",
       "      <th></th>\n",
       "      <th></th>\n",
       "      <th></th>\n",
       "    </tr>\n",
       "  </thead>\n",
       "  <tbody>\n",
       "    <tr>\n",
       "      <th>1</th>\n",
       "      <td>0</td>\n",
       "      <td>3</td>\n",
       "      <td>Braund, Mr. Owen Harris</td>\n",
       "      <td>male</td>\n",
       "      <td>22.0</td>\n",
       "      <td>1</td>\n",
       "      <td>0</td>\n",
       "      <td>A/5 21171</td>\n",
       "      <td>7.2500</td>\n",
       "      <td>NaN</td>\n",
       "      <td>S</td>\n",
       "    </tr>\n",
       "    <tr>\n",
       "      <th>2</th>\n",
       "      <td>1</td>\n",
       "      <td>1</td>\n",
       "      <td>Cumings, Mrs. John Bradley (Florence Briggs Th...</td>\n",
       "      <td>female</td>\n",
       "      <td>38.0</td>\n",
       "      <td>1</td>\n",
       "      <td>0</td>\n",
       "      <td>PC 17599</td>\n",
       "      <td>71.2833</td>\n",
       "      <td>C85</td>\n",
       "      <td>C</td>\n",
       "    </tr>\n",
       "    <tr>\n",
       "      <th>3</th>\n",
       "      <td>1</td>\n",
       "      <td>3</td>\n",
       "      <td>Heikkinen, Miss. Laina</td>\n",
       "      <td>female</td>\n",
       "      <td>26.0</td>\n",
       "      <td>0</td>\n",
       "      <td>0</td>\n",
       "      <td>STON/O2. 3101282</td>\n",
       "      <td>7.9250</td>\n",
       "      <td>NaN</td>\n",
       "      <td>S</td>\n",
       "    </tr>\n",
       "    <tr>\n",
       "      <th>4</th>\n",
       "      <td>1</td>\n",
       "      <td>1</td>\n",
       "      <td>Futrelle, Mrs. Jacques Heath (Lily May Peel)</td>\n",
       "      <td>female</td>\n",
       "      <td>35.0</td>\n",
       "      <td>1</td>\n",
       "      <td>0</td>\n",
       "      <td>113803</td>\n",
       "      <td>53.1000</td>\n",
       "      <td>C123</td>\n",
       "      <td>S</td>\n",
       "    </tr>\n",
       "    <tr>\n",
       "      <th>5</th>\n",
       "      <td>0</td>\n",
       "      <td>3</td>\n",
       "      <td>Allen, Mr. William Henry</td>\n",
       "      <td>male</td>\n",
       "      <td>35.0</td>\n",
       "      <td>0</td>\n",
       "      <td>0</td>\n",
       "      <td>373450</td>\n",
       "      <td>8.0500</td>\n",
       "      <td>NaN</td>\n",
       "      <td>S</td>\n",
       "    </tr>\n",
       "    <tr>\n",
       "      <th>6</th>\n",
       "      <td>0</td>\n",
       "      <td>3</td>\n",
       "      <td>Moran, Mr. James</td>\n",
       "      <td>male</td>\n",
       "      <td>NaN</td>\n",
       "      <td>0</td>\n",
       "      <td>0</td>\n",
       "      <td>330877</td>\n",
       "      <td>8.4583</td>\n",
       "      <td>NaN</td>\n",
       "      <td>Q</td>\n",
       "    </tr>\n",
       "    <tr>\n",
       "      <th>7</th>\n",
       "      <td>0</td>\n",
       "      <td>1</td>\n",
       "      <td>McCarthy, Mr. Timothy J</td>\n",
       "      <td>male</td>\n",
       "      <td>54.0</td>\n",
       "      <td>0</td>\n",
       "      <td>0</td>\n",
       "      <td>17463</td>\n",
       "      <td>51.8625</td>\n",
       "      <td>E46</td>\n",
       "      <td>S</td>\n",
       "    </tr>\n",
       "    <tr>\n",
       "      <th>8</th>\n",
       "      <td>0</td>\n",
       "      <td>3</td>\n",
       "      <td>Palsson, Master. Gosta Leonard</td>\n",
       "      <td>male</td>\n",
       "      <td>2.0</td>\n",
       "      <td>3</td>\n",
       "      <td>1</td>\n",
       "      <td>349909</td>\n",
       "      <td>21.0750</td>\n",
       "      <td>NaN</td>\n",
       "      <td>S</td>\n",
       "    </tr>\n",
       "    <tr>\n",
       "      <th>9</th>\n",
       "      <td>1</td>\n",
       "      <td>3</td>\n",
       "      <td>Johnson, Mrs. Oscar W (Elisabeth Vilhelmina Berg)</td>\n",
       "      <td>female</td>\n",
       "      <td>27.0</td>\n",
       "      <td>0</td>\n",
       "      <td>2</td>\n",
       "      <td>347742</td>\n",
       "      <td>11.1333</td>\n",
       "      <td>NaN</td>\n",
       "      <td>S</td>\n",
       "    </tr>\n",
       "    <tr>\n",
       "      <th>10</th>\n",
       "      <td>1</td>\n",
       "      <td>2</td>\n",
       "      <td>Nasser, Mrs. Nicholas (Adele Achem)</td>\n",
       "      <td>female</td>\n",
       "      <td>14.0</td>\n",
       "      <td>1</td>\n",
       "      <td>0</td>\n",
       "      <td>237736</td>\n",
       "      <td>30.0708</td>\n",
       "      <td>NaN</td>\n",
       "      <td>C</td>\n",
       "    </tr>\n",
       "  </tbody>\n",
       "</table>\n",
       "</div>"
      ],
      "text/plain": [
       "             Survived  Pclass  \\\n",
       "PassengerId                     \n",
       "1                   0       3   \n",
       "2                   1       1   \n",
       "3                   1       3   \n",
       "4                   1       1   \n",
       "5                   0       3   \n",
       "6                   0       3   \n",
       "7                   0       1   \n",
       "8                   0       3   \n",
       "9                   1       3   \n",
       "10                  1       2   \n",
       "\n",
       "                                                          Name     Sex   Age  \\\n",
       "PassengerId                                                                    \n",
       "1                                      Braund, Mr. Owen Harris    male  22.0   \n",
       "2            Cumings, Mrs. John Bradley (Florence Briggs Th...  female  38.0   \n",
       "3                                       Heikkinen, Miss. Laina  female  26.0   \n",
       "4                 Futrelle, Mrs. Jacques Heath (Lily May Peel)  female  35.0   \n",
       "5                                     Allen, Mr. William Henry    male  35.0   \n",
       "6                                             Moran, Mr. James    male   NaN   \n",
       "7                                      McCarthy, Mr. Timothy J    male  54.0   \n",
       "8                               Palsson, Master. Gosta Leonard    male   2.0   \n",
       "9            Johnson, Mrs. Oscar W (Elisabeth Vilhelmina Berg)  female  27.0   \n",
       "10                         Nasser, Mrs. Nicholas (Adele Achem)  female  14.0   \n",
       "\n",
       "             SibSp  Parch            Ticket     Fare Cabin Embarked  \n",
       "PassengerId                                                          \n",
       "1                1      0         A/5 21171   7.2500   NaN        S  \n",
       "2                1      0          PC 17599  71.2833   C85        C  \n",
       "3                0      0  STON/O2. 3101282   7.9250   NaN        S  \n",
       "4                1      0            113803  53.1000  C123        S  \n",
       "5                0      0            373450   8.0500   NaN        S  \n",
       "6                0      0            330877   8.4583   NaN        Q  \n",
       "7                0      0             17463  51.8625   E46        S  \n",
       "8                3      1            349909  21.0750   NaN        S  \n",
       "9                0      2            347742  11.1333   NaN        S  \n",
       "10               1      0            237736  30.0708   NaN        C  "
      ]
     },
     "execution_count": 2,
     "metadata": {},
     "output_type": "execute_result"
    }
   ],
   "source": [
    "titanic=pd.read_csv('/kaggle/input/titanic/train.csv',index_col='PassengerId')\n",
    "titanic_test=pd.read_csv('/kaggle/input/titanic/test.csv',index_col='PassengerId')\n",
    "\n",
    "titanic.head(10)"
   ]
  },
  {
   "cell_type": "code",
   "execution_count": 3,
   "id": "f6c78f69",
   "metadata": {
    "execution": {
     "iopub.execute_input": "2021-08-08T13:34:36.202417Z",
     "iopub.status.busy": "2021-08-08T13:34:36.201475Z",
     "iopub.status.idle": "2021-08-08T13:34:36.210270Z",
     "shell.execute_reply": "2021-08-08T13:34:36.210771Z",
     "shell.execute_reply.started": "2021-08-08T13:32:53.377400Z"
    },
    "papermill": {
     "duration": 0.046006,
     "end_time": "2021-08-08T13:34:36.210935",
     "exception": false,
     "start_time": "2021-08-08T13:34:36.164929",
     "status": "completed"
    },
    "tags": []
   },
   "outputs": [
    {
     "data": {
      "text/plain": [
       "Survived      0\n",
       "Pclass        0\n",
       "Name          0\n",
       "Sex           0\n",
       "Age         177\n",
       "SibSp         0\n",
       "Parch         0\n",
       "Ticket        0\n",
       "Fare          0\n",
       "Cabin       687\n",
       "Embarked      2\n",
       "dtype: int64"
      ]
     },
     "execution_count": 3,
     "metadata": {},
     "output_type": "execute_result"
    }
   ],
   "source": [
    "titanic.isnull().sum()"
   ]
  },
  {
   "cell_type": "code",
   "execution_count": 4,
   "id": "a0fafabc",
   "metadata": {
    "execution": {
     "iopub.execute_input": "2021-08-08T13:34:36.282727Z",
     "iopub.status.busy": "2021-08-08T13:34:36.281793Z",
     "iopub.status.idle": "2021-08-08T13:34:36.290035Z",
     "shell.execute_reply": "2021-08-08T13:34:36.290557Z",
     "shell.execute_reply.started": "2021-08-08T13:32:53.388127Z"
    },
    "papermill": {
     "duration": 0.045687,
     "end_time": "2021-08-08T13:34:36.290713",
     "exception": false,
     "start_time": "2021-08-08T13:34:36.245026",
     "status": "completed"
    },
    "tags": []
   },
   "outputs": [
    {
     "data": {
      "text/plain": [
       "Pclass        0\n",
       "Name          0\n",
       "Sex           0\n",
       "Age          86\n",
       "SibSp         0\n",
       "Parch         0\n",
       "Ticket        0\n",
       "Fare          1\n",
       "Cabin       327\n",
       "Embarked      0\n",
       "dtype: int64"
      ]
     },
     "execution_count": 4,
     "metadata": {},
     "output_type": "execute_result"
    }
   ],
   "source": [
    "titanic_test.isnull().sum()"
   ]
  },
  {
   "cell_type": "code",
   "execution_count": 5,
   "id": "9a4b6841",
   "metadata": {
    "execution": {
     "iopub.execute_input": "2021-08-08T13:34:36.384766Z",
     "iopub.status.busy": "2021-08-08T13:34:36.383672Z",
     "iopub.status.idle": "2021-08-08T13:34:36.386152Z",
     "shell.execute_reply": "2021-08-08T13:34:36.386591Z",
     "shell.execute_reply.started": "2021-08-08T13:32:53.404198Z"
    },
    "papermill": {
     "duration": 0.05648,
     "end_time": "2021-08-08T13:34:36.386773",
     "exception": false,
     "start_time": "2021-08-08T13:34:36.330293",
     "status": "completed"
    },
    "tags": []
   },
   "outputs": [],
   "source": [
    "titanic=titanic.drop('Cabin',axis=1)\n",
    "titanic_test=titanic_test.drop('Cabin',axis=1)\n",
    "titanic.Embarked.value_counts()\n",
    "# Filling the two missing values with the most frequent value for Embarked column\n",
    "titanic[['Embarked']]=titanic[['Embarked']].fillna('S')"
   ]
  },
  {
   "cell_type": "code",
   "execution_count": 6,
   "id": "0d82fb6f",
   "metadata": {
    "execution": {
     "iopub.execute_input": "2021-08-08T13:34:36.460660Z",
     "iopub.status.busy": "2021-08-08T13:34:36.459710Z",
     "iopub.status.idle": "2021-08-08T13:34:36.468943Z",
     "shell.execute_reply": "2021-08-08T13:34:36.468326Z",
     "shell.execute_reply.started": "2021-08-08T13:32:53.420883Z"
    },
    "papermill": {
     "duration": 0.046866,
     "end_time": "2021-08-08T13:34:36.469082",
     "exception": false,
     "start_time": "2021-08-08T13:34:36.422216",
     "status": "completed"
    },
    "tags": []
   },
   "outputs": [
    {
     "data": {
      "text/plain": [
       "Pclass\n",
       "1    84.154687\n",
       "2    20.662183\n",
       "3    13.675550\n",
       "Name: Fare, dtype: float64"
      ]
     },
     "execution_count": 6,
     "metadata": {},
     "output_type": "execute_result"
    }
   ],
   "source": [
    "titanic.groupby('Pclass')['Fare'].mean()"
   ]
  },
  {
   "cell_type": "code",
   "execution_count": 7,
   "id": "b5fbbf5c",
   "metadata": {
    "execution": {
     "iopub.execute_input": "2021-08-08T13:34:36.544980Z",
     "iopub.status.busy": "2021-08-08T13:34:36.544038Z",
     "iopub.status.idle": "2021-08-08T13:34:36.562492Z",
     "shell.execute_reply": "2021-08-08T13:34:36.561806Z",
     "shell.execute_reply.started": "2021-08-08T13:32:53.436341Z"
    },
    "papermill": {
     "duration": 0.058651,
     "end_time": "2021-08-08T13:34:36.562638",
     "exception": false,
     "start_time": "2021-08-08T13:34:36.503987",
     "status": "completed"
    },
    "tags": []
   },
   "outputs": [],
   "source": [
    "titanic_test[titanic_test['Fare'].isnull()==True]\n",
    "titanic_test.loc[titanic_test['Fare'].isnull()==True,'Fare']=13.6756"
   ]
  },
  {
   "cell_type": "code",
   "execution_count": 8,
   "id": "6f751843",
   "metadata": {
    "execution": {
     "iopub.execute_input": "2021-08-08T13:34:36.638028Z",
     "iopub.status.busy": "2021-08-08T13:34:36.637327Z",
     "iopub.status.idle": "2021-08-08T13:34:36.650793Z",
     "shell.execute_reply": "2021-08-08T13:34:36.650139Z",
     "shell.execute_reply.started": "2021-08-08T13:32:53.450555Z"
    },
    "papermill": {
     "duration": 0.052047,
     "end_time": "2021-08-08T13:34:36.650936",
     "exception": false,
     "start_time": "2021-08-08T13:34:36.598889",
     "status": "completed"
    },
    "tags": []
   },
   "outputs": [],
   "source": [
    "# Creating a list for saving the title of people form the name column\n",
    "var=titanic['Name'].str.split()\n",
    "list_of_title=[]\n",
    "for x in range(1,(len(titanic)+1)):\n",
    "    list_of_title.append(var[x][1])"
   ]
  },
  {
   "cell_type": "code",
   "execution_count": 9,
   "id": "b156c7ca",
   "metadata": {
    "execution": {
     "iopub.execute_input": "2021-08-08T13:34:36.723765Z",
     "iopub.status.busy": "2021-08-08T13:34:36.723107Z",
     "iopub.status.idle": "2021-08-08T13:34:36.739787Z",
     "shell.execute_reply": "2021-08-08T13:34:36.740295Z",
     "shell.execute_reply.started": "2021-08-08T13:32:53.465855Z"
    },
    "papermill": {
     "duration": 0.054504,
     "end_time": "2021-08-08T13:34:36.740462",
     "exception": false,
     "start_time": "2021-08-08T13:34:36.685958",
     "status": "completed"
    },
    "tags": []
   },
   "outputs": [
    {
     "data": {
      "text/html": [
       "<div>\n",
       "<style scoped>\n",
       "    .dataframe tbody tr th:only-of-type {\n",
       "        vertical-align: middle;\n",
       "    }\n",
       "\n",
       "    .dataframe tbody tr th {\n",
       "        vertical-align: top;\n",
       "    }\n",
       "\n",
       "    .dataframe thead th {\n",
       "        text-align: right;\n",
       "    }\n",
       "</style>\n",
       "<table border=\"1\" class=\"dataframe\">\n",
       "  <thead>\n",
       "    <tr style=\"text-align: right;\">\n",
       "      <th></th>\n",
       "      <th>Survived</th>\n",
       "      <th>Pclass</th>\n",
       "      <th>Name</th>\n",
       "      <th>Sex</th>\n",
       "      <th>Age</th>\n",
       "      <th>SibSp</th>\n",
       "      <th>Parch</th>\n",
       "      <th>Ticket</th>\n",
       "      <th>Fare</th>\n",
       "      <th>Embarked</th>\n",
       "      <th>Title</th>\n",
       "    </tr>\n",
       "    <tr>\n",
       "      <th>PassengerId</th>\n",
       "      <th></th>\n",
       "      <th></th>\n",
       "      <th></th>\n",
       "      <th></th>\n",
       "      <th></th>\n",
       "      <th></th>\n",
       "      <th></th>\n",
       "      <th></th>\n",
       "      <th></th>\n",
       "      <th></th>\n",
       "      <th></th>\n",
       "    </tr>\n",
       "  </thead>\n",
       "  <tbody>\n",
       "    <tr>\n",
       "      <th>1</th>\n",
       "      <td>0</td>\n",
       "      <td>3</td>\n",
       "      <td>Braund, Mr. Owen Harris</td>\n",
       "      <td>male</td>\n",
       "      <td>22.0</td>\n",
       "      <td>1</td>\n",
       "      <td>0</td>\n",
       "      <td>A/5 21171</td>\n",
       "      <td>7.2500</td>\n",
       "      <td>S</td>\n",
       "      <td>Mr.</td>\n",
       "    </tr>\n",
       "    <tr>\n",
       "      <th>2</th>\n",
       "      <td>1</td>\n",
       "      <td>1</td>\n",
       "      <td>Cumings, Mrs. John Bradley (Florence Briggs Th...</td>\n",
       "      <td>female</td>\n",
       "      <td>38.0</td>\n",
       "      <td>1</td>\n",
       "      <td>0</td>\n",
       "      <td>PC 17599</td>\n",
       "      <td>71.2833</td>\n",
       "      <td>C</td>\n",
       "      <td>Mrs.</td>\n",
       "    </tr>\n",
       "    <tr>\n",
       "      <th>3</th>\n",
       "      <td>1</td>\n",
       "      <td>3</td>\n",
       "      <td>Heikkinen, Miss. Laina</td>\n",
       "      <td>female</td>\n",
       "      <td>26.0</td>\n",
       "      <td>0</td>\n",
       "      <td>0</td>\n",
       "      <td>STON/O2. 3101282</td>\n",
       "      <td>7.9250</td>\n",
       "      <td>S</td>\n",
       "      <td>Miss.</td>\n",
       "    </tr>\n",
       "    <tr>\n",
       "      <th>4</th>\n",
       "      <td>1</td>\n",
       "      <td>1</td>\n",
       "      <td>Futrelle, Mrs. Jacques Heath (Lily May Peel)</td>\n",
       "      <td>female</td>\n",
       "      <td>35.0</td>\n",
       "      <td>1</td>\n",
       "      <td>0</td>\n",
       "      <td>113803</td>\n",
       "      <td>53.1000</td>\n",
       "      <td>S</td>\n",
       "      <td>Mrs.</td>\n",
       "    </tr>\n",
       "    <tr>\n",
       "      <th>5</th>\n",
       "      <td>0</td>\n",
       "      <td>3</td>\n",
       "      <td>Allen, Mr. William Henry</td>\n",
       "      <td>male</td>\n",
       "      <td>35.0</td>\n",
       "      <td>0</td>\n",
       "      <td>0</td>\n",
       "      <td>373450</td>\n",
       "      <td>8.0500</td>\n",
       "      <td>S</td>\n",
       "      <td>Mr.</td>\n",
       "    </tr>\n",
       "  </tbody>\n",
       "</table>\n",
       "</div>"
      ],
      "text/plain": [
       "             Survived  Pclass  \\\n",
       "PassengerId                     \n",
       "1                   0       3   \n",
       "2                   1       1   \n",
       "3                   1       3   \n",
       "4                   1       1   \n",
       "5                   0       3   \n",
       "\n",
       "                                                          Name     Sex   Age  \\\n",
       "PassengerId                                                                    \n",
       "1                                      Braund, Mr. Owen Harris    male  22.0   \n",
       "2            Cumings, Mrs. John Bradley (Florence Briggs Th...  female  38.0   \n",
       "3                                       Heikkinen, Miss. Laina  female  26.0   \n",
       "4                 Futrelle, Mrs. Jacques Heath (Lily May Peel)  female  35.0   \n",
       "5                                     Allen, Mr. William Henry    male  35.0   \n",
       "\n",
       "             SibSp  Parch            Ticket     Fare Embarked  Title  \n",
       "PassengerId                                                           \n",
       "1                1      0         A/5 21171   7.2500        S    Mr.  \n",
       "2                1      0          PC 17599  71.2833        C   Mrs.  \n",
       "3                0      0  STON/O2. 3101282   7.9250        S  Miss.  \n",
       "4                1      0            113803  53.1000        S   Mrs.  \n",
       "5                0      0            373450   8.0500        S    Mr.  "
      ]
     },
     "execution_count": 9,
     "metadata": {},
     "output_type": "execute_result"
    }
   ],
   "source": [
    "titanic['Title']=list_of_title\n",
    "titanic.head()"
   ]
  },
  {
   "cell_type": "code",
   "execution_count": 10,
   "id": "d6152ea0",
   "metadata": {
    "execution": {
     "iopub.execute_input": "2021-08-08T13:34:36.830995Z",
     "iopub.status.busy": "2021-08-08T13:34:36.830319Z",
     "iopub.status.idle": "2021-08-08T13:34:36.839274Z",
     "shell.execute_reply": "2021-08-08T13:34:36.839979Z",
     "shell.execute_reply.started": "2021-08-08T13:32:53.491226Z"
    },
    "papermill": {
     "duration": 0.059626,
     "end_time": "2021-08-08T13:34:36.840150",
     "exception": false,
     "start_time": "2021-08-08T13:34:36.780524",
     "status": "completed"
    },
    "tags": []
   },
   "outputs": [
    {
     "data": {
      "text/plain": [
       "array(['Mr.', 'Mrs.', 'Miss.', 'Master.', 'Planke,', 'Don.', 'Rev.',\n",
       "       'Billiard,', 'der', 'Walle,', 'Dr.', 'Pelsmaeker,', 'Mulder,', 'y',\n",
       "       'Steen,', 'Carlo,', 'Mme.', 'Impe,', 'Ms.', 'Major.', 'Gordon,',\n",
       "       'Messemaeker,', 'Mlle.', 'Col.', 'Capt.', 'Velde,', 'the',\n",
       "       'Shawah,', 'Jonkheer.', 'Melkebeke,', 'Cruyssen,'], dtype=object)"
      ]
     },
     "execution_count": 10,
     "metadata": {},
     "output_type": "execute_result"
    }
   ],
   "source": [
    "titanic['Title'].unique()"
   ]
  },
  {
   "cell_type": "code",
   "execution_count": 11,
   "id": "8fe45fe5",
   "metadata": {
    "execution": {
     "iopub.execute_input": "2021-08-08T13:34:36.927324Z",
     "iopub.status.busy": "2021-08-08T13:34:36.926676Z",
     "iopub.status.idle": "2021-08-08T13:34:36.954240Z",
     "shell.execute_reply": "2021-08-08T13:34:36.954694Z",
     "shell.execute_reply.started": "2021-08-08T13:32:53.505734Z"
    },
    "papermill": {
     "duration": 0.069169,
     "end_time": "2021-08-08T13:34:36.954879",
     "exception": false,
     "start_time": "2021-08-08T13:34:36.885710",
     "status": "completed"
    },
    "tags": []
   },
   "outputs": [
    {
     "name": "stdout",
     "output_type": "stream",
     "text": [
      "PassengerId\n",
      "19     Vander Planke, Mrs. Julius (Emelia Maria Vande...\n",
      "39                    Vander Planke, Miss. Augusta Maria\n",
      "334                      Vander Planke, Mr. Leo Edmondus\n",
      "Name: Name, dtype: object\n",
      "PassengerId\n",
      "154    van Billiard, Mr. Austin Blyler\n",
      "Name: Name, dtype: object\n",
      "PassengerId\n",
      "171    Van der hoef, Mr. Wyckoff\n",
      "Name: Name, dtype: object\n",
      "PassengerId\n",
      "201    Vande Walle, Mr. Nestor Cyriel\n",
      "Name: Name, dtype: object\n",
      "PassengerId\n",
      "283    de Pelsmaeker, Mr. Alfons\n",
      "Name: Name, dtype: object\n",
      "PassengerId\n",
      "287    de Mulder, Mr. Theodore\n",
      "Name: Name, dtype: object\n",
      "PassengerId\n",
      "308    Penasco y Castellana, Mrs. Victor de Satode (M...\n",
      "506           Penasco y Castellana, Mr. Victor de Satode\n",
      "548                           Padro y Manent, Mr. Julian\n",
      "867                         Duran y More, Miss. Asuncion\n",
      "Name: Name, dtype: object\n",
      "PassengerId\n",
      "356    Vanden Steen, Mr. Leo Peter\n",
      "Name: Name, dtype: object\n",
      "PassengerId\n",
      "362    del Carlo, Mr. Sebastiano\n",
      "Name: Name, dtype: object\n",
      "PassengerId\n",
      "557    Duff Gordon, Lady. (Lucille Christiana Sutherl...\n",
      "600         Duff Gordon, Sir. Cosmo Edmund (\"Mr Morgan\")\n",
      "Name: Name, dtype: object\n",
      "PassengerId\n",
      "560    de Messemaeker, Mrs. Guillaume Joseph (Emma)\n",
      "Name: Name, dtype: object\n",
      "PassengerId\n",
      "753    Vande Velde, Mr. Johannes Joseph\n",
      "Name: Name, dtype: object\n",
      "PassengerId\n",
      "760    Rothes, the Countess. of (Lucy Noel Martha Dye...\n",
      "Name: Name, dtype: object\n",
      "PassengerId\n",
      "799    Ibrahim Shawah, Mr. Yousseff\n",
      "Name: Name, dtype: object\n",
      "PassengerId\n",
      "823    Reuchlin, Jonkheer. John George\n",
      "Name: Name, dtype: object\n",
      "PassengerId\n",
      "869    van Melkebeke, Mr. Philemon\n",
      "Name: Name, dtype: object\n",
      "PassengerId\n",
      "874    Vander Cruyssen, Mr. Victor\n",
      "Name: Name, dtype: object\n",
      "Series([], Name: Name, dtype: object)\n",
      "Series([], Name: Name, dtype: object)\n",
      "Series([], Name: Name, dtype: object)\n"
     ]
    }
   ],
   "source": [
    "corrections=['Planke,','Billiard,', 'der', 'Walle,',  'Pelsmaeker,', 'Mulder,', 'y',\n",
    "       'Steen,', 'Carlo,',  'Gordon,','Messemaeker,',  'Velde,', 'the',\n",
    "       'Shawah,', 'Jonkheer.', 'Melkebeke,', 'Cruyssen,', 'Khalil,',\n",
    "       'Palmquist,', 'Brito,']\n",
    "\n",
    "for x in corrections:\n",
    "    print(titanic.loc[titanic['Title']==x,'Name'])"
   ]
  },
  {
   "cell_type": "code",
   "execution_count": 12,
   "id": "5489f8dd",
   "metadata": {
    "execution": {
     "iopub.execute_input": "2021-08-08T13:34:37.031718Z",
     "iopub.status.busy": "2021-08-08T13:34:37.031101Z",
     "iopub.status.idle": "2021-08-08T13:34:37.045556Z",
     "shell.execute_reply": "2021-08-08T13:34:37.046124Z",
     "shell.execute_reply.started": "2021-08-08T13:32:53.539667Z"
    },
    "papermill": {
     "duration": 0.054342,
     "end_time": "2021-08-08T13:34:37.046303",
     "exception": false,
     "start_time": "2021-08-08T13:34:36.991961",
     "status": "completed"
    },
    "tags": []
   },
   "outputs": [],
   "source": [
    "#Some titles needed some modifications based on their names\n",
    "\n",
    "two=[19,39,334,154,201,283,287,356,362,420,596,800,560,753,760,799,869,874]\n",
    "three=[171,308,506,548,867]\n",
    "for x in two:\n",
    "    titanic.loc[x,'Title']=var[x][2]\n",
    "    \n",
    "for y in three:\n",
    "    titanic.loc[y,'Title']=var[y][3]\n",
    "    \n",
    "    \n",
    "titanic.loc[557,'Title']='Mrs'\n",
    "titanic.loc[600,'Title']='Mr'\n",
    "titanic.loc[760,'Title']='Mrs'\n",
    "\n",
    "#Some of the titles like Jonkheer,Col,Capt,etc are being left as it is."
   ]
  },
  {
   "cell_type": "code",
   "execution_count": 13,
   "id": "d9247e3c",
   "metadata": {
    "execution": {
     "iopub.execute_input": "2021-08-08T13:34:37.142185Z",
     "iopub.status.busy": "2021-08-08T13:34:37.141505Z",
     "iopub.status.idle": "2021-08-08T13:34:37.144322Z",
     "shell.execute_reply": "2021-08-08T13:34:37.144768Z",
     "shell.execute_reply.started": "2021-08-08T13:32:53.556357Z"
    },
    "papermill": {
     "duration": 0.061716,
     "end_time": "2021-08-08T13:34:37.144941",
     "exception": false,
     "start_time": "2021-08-08T13:34:37.083225",
     "status": "completed"
    },
    "tags": []
   },
   "outputs": [
    {
     "data": {
      "text/html": [
       "<div>\n",
       "<style scoped>\n",
       "    .dataframe tbody tr th:only-of-type {\n",
       "        vertical-align: middle;\n",
       "    }\n",
       "\n",
       "    .dataframe tbody tr th {\n",
       "        vertical-align: top;\n",
       "    }\n",
       "\n",
       "    .dataframe thead th {\n",
       "        text-align: right;\n",
       "    }\n",
       "</style>\n",
       "<table border=\"1\" class=\"dataframe\">\n",
       "  <thead>\n",
       "    <tr style=\"text-align: right;\">\n",
       "      <th></th>\n",
       "      <th>Pclass</th>\n",
       "      <th>Name</th>\n",
       "      <th>Sex</th>\n",
       "      <th>Age</th>\n",
       "      <th>SibSp</th>\n",
       "      <th>Parch</th>\n",
       "      <th>Ticket</th>\n",
       "      <th>Fare</th>\n",
       "      <th>Embarked</th>\n",
       "      <th>Title</th>\n",
       "    </tr>\n",
       "    <tr>\n",
       "      <th>PassengerId</th>\n",
       "      <th></th>\n",
       "      <th></th>\n",
       "      <th></th>\n",
       "      <th></th>\n",
       "      <th></th>\n",
       "      <th></th>\n",
       "      <th></th>\n",
       "      <th></th>\n",
       "      <th></th>\n",
       "      <th></th>\n",
       "    </tr>\n",
       "  </thead>\n",
       "  <tbody>\n",
       "    <tr>\n",
       "      <th>892</th>\n",
       "      <td>3</td>\n",
       "      <td>Kelly, Mr. James</td>\n",
       "      <td>male</td>\n",
       "      <td>34.5</td>\n",
       "      <td>0</td>\n",
       "      <td>0</td>\n",
       "      <td>330911</td>\n",
       "      <td>7.8292</td>\n",
       "      <td>Q</td>\n",
       "      <td>Mr.</td>\n",
       "    </tr>\n",
       "    <tr>\n",
       "      <th>893</th>\n",
       "      <td>3</td>\n",
       "      <td>Wilkes, Mrs. James (Ellen Needs)</td>\n",
       "      <td>female</td>\n",
       "      <td>47.0</td>\n",
       "      <td>1</td>\n",
       "      <td>0</td>\n",
       "      <td>363272</td>\n",
       "      <td>7.0000</td>\n",
       "      <td>S</td>\n",
       "      <td>Mrs.</td>\n",
       "    </tr>\n",
       "    <tr>\n",
       "      <th>894</th>\n",
       "      <td>2</td>\n",
       "      <td>Myles, Mr. Thomas Francis</td>\n",
       "      <td>male</td>\n",
       "      <td>62.0</td>\n",
       "      <td>0</td>\n",
       "      <td>0</td>\n",
       "      <td>240276</td>\n",
       "      <td>9.6875</td>\n",
       "      <td>Q</td>\n",
       "      <td>Mr.</td>\n",
       "    </tr>\n",
       "    <tr>\n",
       "      <th>895</th>\n",
       "      <td>3</td>\n",
       "      <td>Wirz, Mr. Albert</td>\n",
       "      <td>male</td>\n",
       "      <td>27.0</td>\n",
       "      <td>0</td>\n",
       "      <td>0</td>\n",
       "      <td>315154</td>\n",
       "      <td>8.6625</td>\n",
       "      <td>S</td>\n",
       "      <td>Mr.</td>\n",
       "    </tr>\n",
       "    <tr>\n",
       "      <th>896</th>\n",
       "      <td>3</td>\n",
       "      <td>Hirvonen, Mrs. Alexander (Helga E Lindqvist)</td>\n",
       "      <td>female</td>\n",
       "      <td>22.0</td>\n",
       "      <td>1</td>\n",
       "      <td>1</td>\n",
       "      <td>3101298</td>\n",
       "      <td>12.2875</td>\n",
       "      <td>S</td>\n",
       "      <td>Mrs.</td>\n",
       "    </tr>\n",
       "  </tbody>\n",
       "</table>\n",
       "</div>"
      ],
      "text/plain": [
       "             Pclass                                          Name     Sex  \\\n",
       "PassengerId                                                                 \n",
       "892               3                              Kelly, Mr. James    male   \n",
       "893               3              Wilkes, Mrs. James (Ellen Needs)  female   \n",
       "894               2                     Myles, Mr. Thomas Francis    male   \n",
       "895               3                              Wirz, Mr. Albert    male   \n",
       "896               3  Hirvonen, Mrs. Alexander (Helga E Lindqvist)  female   \n",
       "\n",
       "              Age  SibSp  Parch   Ticket     Fare Embarked Title  \n",
       "PassengerId                                                       \n",
       "892          34.5      0      0   330911   7.8292        Q   Mr.  \n",
       "893          47.0      1      0   363272   7.0000        S  Mrs.  \n",
       "894          62.0      0      0   240276   9.6875        Q   Mr.  \n",
       "895          27.0      0      0   315154   8.6625        S   Mr.  \n",
       "896          22.0      1      1  3101298  12.2875        S  Mrs.  "
      ]
     },
     "execution_count": 13,
     "metadata": {},
     "output_type": "execute_result"
    }
   ],
   "source": [
    "# Creating a list for saving the title of people form the name column\n",
    "var=titanic_test['Name'].str.split()\n",
    "list_of_title=[]\n",
    "for x in range(titanic_test.index[0],(titanic_test.index[-1]+1)):\n",
    "    list_of_title.append(var[x][1])\n",
    "titanic_test['Title']=list_of_title\n",
    "titanic_test.head()"
   ]
  },
  {
   "cell_type": "code",
   "execution_count": 14,
   "id": "e1b4179b",
   "metadata": {
    "execution": {
     "iopub.execute_input": "2021-08-08T13:34:37.221502Z",
     "iopub.status.busy": "2021-08-08T13:34:37.220865Z",
     "iopub.status.idle": "2021-08-08T13:34:37.227206Z",
     "shell.execute_reply": "2021-08-08T13:34:37.226643Z",
     "shell.execute_reply.started": "2021-08-08T13:32:53.582927Z"
    },
    "papermill": {
     "duration": 0.045546,
     "end_time": "2021-08-08T13:34:37.227341",
     "exception": false,
     "start_time": "2021-08-08T13:34:37.181795",
     "status": "completed"
    },
    "tags": []
   },
   "outputs": [
    {
     "data": {
      "text/plain": [
       "array(['Mr.', 'Mrs.', 'Miss.', 'Carlo,', 'Khalil,', 'Master.', 'y', 'Ms.',\n",
       "       'Palmquist,', 'Col.', 'Planke,', 'Rev.', 'Billiard,',\n",
       "       'Messemaeker,', 'Dr.', 'Brito,'], dtype=object)"
      ]
     },
     "execution_count": 14,
     "metadata": {},
     "output_type": "execute_result"
    }
   ],
   "source": [
    "titanic_test['Title'].unique()"
   ]
  },
  {
   "cell_type": "code",
   "execution_count": 15,
   "id": "46d260ab",
   "metadata": {
    "execution": {
     "iopub.execute_input": "2021-08-08T13:34:37.310620Z",
     "iopub.status.busy": "2021-08-08T13:34:37.309989Z",
     "iopub.status.idle": "2021-08-08T13:34:37.335665Z",
     "shell.execute_reply": "2021-08-08T13:34:37.334630Z",
     "shell.execute_reply.started": "2021-08-08T13:32:53.596078Z"
    },
    "papermill": {
     "duration": 0.070977,
     "end_time": "2021-08-08T13:34:37.335879",
     "exception": false,
     "start_time": "2021-08-08T13:34:37.264902",
     "status": "completed"
    },
    "tags": []
   },
   "outputs": [
    {
     "name": "stdout",
     "output_type": "stream",
     "text": [
      "PassengerId\n",
      "1037    Vander Planke, Mr. Julius\n",
      "Name: Name, dtype: object\n",
      "PassengerId\n",
      "1084      van Billiard, Master. Walter John\n",
      "1236    van Billiard, Master. James William\n",
      "Name: Name, dtype: object\n",
      "Series([], Name: Name, dtype: object)\n",
      "Series([], Name: Name, dtype: object)\n",
      "Series([], Name: Name, dtype: object)\n",
      "PassengerId\n",
      "965     Ovies y Rodriguez, Mr. Servando\n",
      "1112     Duran y More, Miss. Florentina\n",
      "1261      Pallas y Castello, Mr. Emilio\n",
      "1306       Oliva y Ocana, Dona. Fermina\n",
      "Name: Name, dtype: object\n",
      "PassengerId\n",
      "907    del Carlo, Mrs. Sebastiano (Argenia Genovesi)\n",
      "Name: Name, dtype: object\n",
      "Series([], Name: Name, dtype: object)\n",
      "PassengerId\n",
      "1152    de Messemaeker, Mr. Guillaume Joseph\n",
      "Name: Name, dtype: object\n",
      "Series([], Name: Name, dtype: object)\n",
      "Series([], Name: Name, dtype: object)\n",
      "Series([], Name: Name, dtype: object)\n",
      "Series([], Name: Name, dtype: object)\n",
      "Series([], Name: Name, dtype: object)\n",
      "Series([], Name: Name, dtype: object)\n",
      "PassengerId\n",
      "911    Assaf Khalil, Mrs. Mariana (Miriam\")\"\n",
      "Name: Name, dtype: object\n",
      "PassengerId\n",
      "995    Johansson Palmquist, Mr. Oskar Leander\n",
      "Name: Name, dtype: object\n",
      "PassengerId\n",
      "1228    de Brito, Mr. Jose Joaquim\n",
      "Name: Name, dtype: object\n"
     ]
    }
   ],
   "source": [
    "corrections=['Planke,','Billiard,', 'der', 'Walle,',  'Pelsmaeker,','y',\n",
    "        'Carlo,',  'Gordon,','Messemaeker,',  'Velde,', 'the',\n",
    "       'Shawah,', 'Jonkheer.', 'Melkebeke,', 'Cruyssen,', 'Khalil,',\n",
    "       'Palmquist,', 'Brito,']\n",
    "\n",
    "for x in corrections:\n",
    "    print(titanic_test.loc[titanic_test['Title']==x,'Name'])"
   ]
  },
  {
   "cell_type": "code",
   "execution_count": 16,
   "id": "cee5fe5a",
   "metadata": {
    "execution": {
     "iopub.execute_input": "2021-08-08T13:34:37.432285Z",
     "iopub.status.busy": "2021-08-08T13:34:37.431616Z",
     "iopub.status.idle": "2021-08-08T13:34:37.434310Z",
     "shell.execute_reply": "2021-08-08T13:34:37.433675Z",
     "shell.execute_reply.started": "2021-08-08T13:32:53.622188Z"
    },
    "papermill": {
     "duration": 0.052363,
     "end_time": "2021-08-08T13:34:37.434450",
     "exception": false,
     "start_time": "2021-08-08T13:34:37.382087",
     "status": "completed"
    },
    "tags": []
   },
   "outputs": [],
   "source": [
    "#Some titles needed some modifications based on their names\n",
    "\n",
    "two_test=[1037,1084,1236,907,1152,911,995,1228]\n",
    "three_test=[965,1112,1261,1306]\n",
    "for x in two_test:\n",
    "    titanic_test.loc[x,'Title']=var[x][2]\n",
    "    \n",
    "for y in three_test:\n",
    "    titanic_test.loc[y,'Title']=var[y][3]\n",
    "    \n",
    "    \n",
    "\n",
    "#Some of the titles like Jonkheer,Col,Capt,etc are being left as it is."
   ]
  },
  {
   "cell_type": "code",
   "execution_count": 17,
   "id": "48e86ed9",
   "metadata": {
    "execution": {
     "iopub.execute_input": "2021-08-08T13:34:37.513689Z",
     "iopub.status.busy": "2021-08-08T13:34:37.513051Z",
     "iopub.status.idle": "2021-08-08T13:34:37.522962Z",
     "shell.execute_reply": "2021-08-08T13:34:37.523593Z",
     "shell.execute_reply.started": "2021-08-08T13:32:53.638487Z"
    },
    "papermill": {
     "duration": 0.050891,
     "end_time": "2021-08-08T13:34:37.523809",
     "exception": false,
     "start_time": "2021-08-08T13:34:37.472918",
     "status": "completed"
    },
    "tags": []
   },
   "outputs": [
    {
     "name": "stderr",
     "output_type": "stream",
     "text": [
      "/opt/conda/lib/python3.7/site-packages/ipykernel_launcher.py:1: FutureWarning: The default value of regex will change from True to False in a future version. In addition, single character regular expressions will*not* be treated as literal strings when regex=True.\n",
      "  \"\"\"Entry point for launching an IPython kernel.\n",
      "/opt/conda/lib/python3.7/site-packages/ipykernel_launcher.py:2: FutureWarning: The default value of regex will change from True to False in a future version. In addition, single character regular expressions will*not* be treated as literal strings when regex=True.\n",
      "  \n"
     ]
    }
   ],
   "source": [
    "titanic['Title']=titanic['Title'].str.replace('.','').str.replace(',','')\n",
    "titanic_test['Title']=titanic_test['Title'].str.replace('.','').str.replace(',','')"
   ]
  },
  {
   "cell_type": "code",
   "execution_count": 18,
   "id": "52e53bc1",
   "metadata": {
    "execution": {
     "iopub.execute_input": "2021-08-08T13:34:37.602923Z",
     "iopub.status.busy": "2021-08-08T13:34:37.602268Z",
     "iopub.status.idle": "2021-08-08T13:34:37.618375Z",
     "shell.execute_reply": "2021-08-08T13:34:37.617728Z",
     "shell.execute_reply.started": "2021-08-08T13:32:53.652861Z"
    },
    "papermill": {
     "duration": 0.056653,
     "end_time": "2021-08-08T13:34:37.618525",
     "exception": false,
     "start_time": "2021-08-08T13:34:37.561872",
     "status": "completed"
    },
    "tags": []
   },
   "outputs": [
    {
     "data": {
      "text/html": [
       "<div>\n",
       "<style scoped>\n",
       "    .dataframe tbody tr th:only-of-type {\n",
       "        vertical-align: middle;\n",
       "    }\n",
       "\n",
       "    .dataframe tbody tr th {\n",
       "        vertical-align: top;\n",
       "    }\n",
       "\n",
       "    .dataframe thead th {\n",
       "        text-align: right;\n",
       "    }\n",
       "</style>\n",
       "<table border=\"1\" class=\"dataframe\">\n",
       "  <thead>\n",
       "    <tr style=\"text-align: right;\">\n",
       "      <th></th>\n",
       "      <th>Pclass</th>\n",
       "      <th>Name</th>\n",
       "      <th>Sex</th>\n",
       "      <th>Age</th>\n",
       "      <th>SibSp</th>\n",
       "      <th>Parch</th>\n",
       "      <th>Ticket</th>\n",
       "      <th>Fare</th>\n",
       "      <th>Embarked</th>\n",
       "      <th>Title</th>\n",
       "    </tr>\n",
       "    <tr>\n",
       "      <th>PassengerId</th>\n",
       "      <th></th>\n",
       "      <th></th>\n",
       "      <th></th>\n",
       "      <th></th>\n",
       "      <th></th>\n",
       "      <th></th>\n",
       "      <th></th>\n",
       "      <th></th>\n",
       "      <th></th>\n",
       "      <th></th>\n",
       "    </tr>\n",
       "  </thead>\n",
       "  <tbody>\n",
       "    <tr>\n",
       "      <th>980</th>\n",
       "      <td>3</td>\n",
       "      <td>O'Donoghue, Ms. Bridget</td>\n",
       "      <td>female</td>\n",
       "      <td>NaN</td>\n",
       "      <td>0</td>\n",
       "      <td>0</td>\n",
       "      <td>364856</td>\n",
       "      <td>7.75</td>\n",
       "      <td>Q</td>\n",
       "      <td>Ms</td>\n",
       "    </tr>\n",
       "  </tbody>\n",
       "</table>\n",
       "</div>"
      ],
      "text/plain": [
       "             Pclass                     Name     Sex  Age  SibSp  Parch  \\\n",
       "PassengerId                                                               \n",
       "980               3  O'Donoghue, Ms. Bridget  female  NaN      0      0   \n",
       "\n",
       "             Ticket  Fare Embarked Title  \n",
       "PassengerId                               \n",
       "980          364856  7.75        Q    Ms  "
      ]
     },
     "execution_count": 18,
     "metadata": {},
     "output_type": "execute_result"
    }
   ],
   "source": [
    "# The 'Ms' title has only two rows and one of them is missing, so assigning the value of the first row to the missing one.\n",
    "titanic_test[titanic_test['Title']=='Ms']"
   ]
  },
  {
   "cell_type": "code",
   "execution_count": 19,
   "id": "74f1b9d7",
   "metadata": {
    "execution": {
     "iopub.execute_input": "2021-08-08T13:34:37.707031Z",
     "iopub.status.busy": "2021-08-08T13:34:37.706331Z",
     "iopub.status.idle": "2021-08-08T13:34:37.716052Z",
     "shell.execute_reply": "2021-08-08T13:34:37.715415Z",
     "shell.execute_reply.started": "2021-08-08T13:32:53.676701Z"
    },
    "papermill": {
     "duration": 0.058781,
     "end_time": "2021-08-08T13:34:37.716200",
     "exception": false,
     "start_time": "2021-08-08T13:34:37.657419",
     "status": "completed"
    },
    "tags": []
   },
   "outputs": [
    {
     "data": {
      "text/html": [
       "<div>\n",
       "<style scoped>\n",
       "    .dataframe tbody tr th:only-of-type {\n",
       "        vertical-align: middle;\n",
       "    }\n",
       "\n",
       "    .dataframe tbody tr th {\n",
       "        vertical-align: top;\n",
       "    }\n",
       "\n",
       "    .dataframe thead th {\n",
       "        text-align: right;\n",
       "    }\n",
       "</style>\n",
       "<table border=\"1\" class=\"dataframe\">\n",
       "  <thead>\n",
       "    <tr style=\"text-align: right;\">\n",
       "      <th></th>\n",
       "      <th>Survived</th>\n",
       "      <th>Pclass</th>\n",
       "      <th>Name</th>\n",
       "      <th>Sex</th>\n",
       "      <th>Age</th>\n",
       "      <th>SibSp</th>\n",
       "      <th>Parch</th>\n",
       "      <th>Ticket</th>\n",
       "      <th>Fare</th>\n",
       "      <th>Embarked</th>\n",
       "      <th>Title</th>\n",
       "    </tr>\n",
       "    <tr>\n",
       "      <th>PassengerId</th>\n",
       "      <th></th>\n",
       "      <th></th>\n",
       "      <th></th>\n",
       "      <th></th>\n",
       "      <th></th>\n",
       "      <th></th>\n",
       "      <th></th>\n",
       "      <th></th>\n",
       "      <th></th>\n",
       "      <th></th>\n",
       "      <th></th>\n",
       "    </tr>\n",
       "  </thead>\n",
       "  <tbody>\n",
       "    <tr>\n",
       "      <th>444</th>\n",
       "      <td>1</td>\n",
       "      <td>2</td>\n",
       "      <td>Reynaldo, Ms. Encarnacion</td>\n",
       "      <td>female</td>\n",
       "      <td>28.0</td>\n",
       "      <td>0</td>\n",
       "      <td>0</td>\n",
       "      <td>230434</td>\n",
       "      <td>13.0</td>\n",
       "      <td>S</td>\n",
       "      <td>Ms</td>\n",
       "    </tr>\n",
       "  </tbody>\n",
       "</table>\n",
       "</div>"
      ],
      "text/plain": [
       "             Survived  Pclass                       Name     Sex   Age  SibSp  \\\n",
       "PassengerId                                                                     \n",
       "444                 1       2  Reynaldo, Ms. Encarnacion  female  28.0      0   \n",
       "\n",
       "             Parch  Ticket  Fare Embarked Title  \n",
       "PassengerId                                      \n",
       "444              0  230434  13.0        S    Ms  "
      ]
     },
     "execution_count": 19,
     "metadata": {},
     "output_type": "execute_result"
    }
   ],
   "source": [
    "titanic[titanic['Title']=='Ms']"
   ]
  },
  {
   "cell_type": "code",
   "execution_count": 20,
   "id": "f8c29e88",
   "metadata": {
    "execution": {
     "iopub.execute_input": "2021-08-08T13:34:37.799785Z",
     "iopub.status.busy": "2021-08-08T13:34:37.799116Z",
     "iopub.status.idle": "2021-08-08T13:34:37.801668Z",
     "shell.execute_reply": "2021-08-08T13:34:37.802237Z",
     "shell.execute_reply.started": "2021-08-08T13:32:53.694307Z"
    },
    "papermill": {
     "duration": 0.047092,
     "end_time": "2021-08-08T13:34:37.802410",
     "exception": false,
     "start_time": "2021-08-08T13:34:37.755318",
     "status": "completed"
    },
    "tags": []
   },
   "outputs": [],
   "source": [
    "titanic_test.loc[980,'Age']=28.0"
   ]
  },
  {
   "cell_type": "code",
   "execution_count": 21,
   "id": "7bfa07d7",
   "metadata": {
    "execution": {
     "iopub.execute_input": "2021-08-08T13:34:37.885275Z",
     "iopub.status.busy": "2021-08-08T13:34:37.884632Z",
     "iopub.status.idle": "2021-08-08T13:34:37.896387Z",
     "shell.execute_reply": "2021-08-08T13:34:37.895855Z",
     "shell.execute_reply.started": "2021-08-08T13:32:53.705483Z"
    },
    "papermill": {
     "duration": 0.054722,
     "end_time": "2021-08-08T13:34:37.896549",
     "exception": false,
     "start_time": "2021-08-08T13:34:37.841827",
     "status": "completed"
    },
    "tags": []
   },
   "outputs": [],
   "source": [
    "mr_age=titanic[titanic['Title']=='Mr']['Age'].median()\n",
    "master_age=titanic[titanic['Title']=='Master']['Age'].median()\n",
    "mrs_age=titanic[titanic['Title']=='Mrs']['Age'].median()\n",
    "miss_age=titanic[titanic['Title']=='Miss']['Age'].median()\n",
    "dr_age=titanic[titanic['Title']=='Dr']['Age'].median()"
   ]
  },
  {
   "cell_type": "code",
   "execution_count": 22,
   "id": "5b5ac966",
   "metadata": {
    "execution": {
     "iopub.execute_input": "2021-08-08T13:34:37.983997Z",
     "iopub.status.busy": "2021-08-08T13:34:37.983298Z",
     "iopub.status.idle": "2021-08-08T13:34:37.994684Z",
     "shell.execute_reply": "2021-08-08T13:34:37.995189Z",
     "shell.execute_reply.started": "2021-08-08T13:32:53.722911Z"
    },
    "papermill": {
     "duration": 0.059524,
     "end_time": "2021-08-08T13:34:37.995370",
     "exception": false,
     "start_time": "2021-08-08T13:34:37.935846",
     "status": "completed"
    },
    "tags": []
   },
   "outputs": [],
   "source": [
    "titanic.loc[titanic['Title']=='Mr','Age']=mr_age\n",
    "titanic_test.loc[titanic_test['Title']=='Mr','Age']=mr_age\n",
    "\n",
    "titanic.loc[titanic['Title']=='Master','Age']=master_age\n",
    "titanic_test.loc[titanic_test['Title']=='Master','Age']=master_age\n",
    "\n",
    "titanic.loc[titanic['Title']=='Mrs','Age']=mrs_age\n",
    "titanic_test.loc[titanic_test['Title']=='Mrs','Age']=mrs_age\n",
    "\n",
    "titanic.loc[titanic['Title']=='Miss','Age']=miss_age\n",
    "titanic_test.loc[titanic_test['Title']=='Miss','Age']=miss_age\n",
    "\n",
    "titanic.loc[titanic['Title']=='Dr','Age']=dr_age\n",
    "titanic_test.loc[titanic_test['Title']=='Dr','Age']=dr_age"
   ]
  },
  {
   "cell_type": "code",
   "execution_count": 23,
   "id": "5f47edd3",
   "metadata": {
    "execution": {
     "iopub.execute_input": "2021-08-08T13:34:38.082132Z",
     "iopub.status.busy": "2021-08-08T13:34:38.081436Z",
     "iopub.status.idle": "2021-08-08T13:34:38.084337Z",
     "shell.execute_reply": "2021-08-08T13:34:38.084862Z",
     "shell.execute_reply.started": "2021-08-08T13:32:53.743482Z"
    },
    "papermill": {
     "duration": 0.050989,
     "end_time": "2021-08-08T13:34:38.085047",
     "exception": false,
     "start_time": "2021-08-08T13:34:38.034058",
     "status": "completed"
    },
    "tags": []
   },
   "outputs": [
    {
     "data": {
      "text/plain": [
       "Survived    0\n",
       "Pclass      0\n",
       "Name        0\n",
       "Sex         0\n",
       "Age         0\n",
       "SibSp       0\n",
       "Parch       0\n",
       "Ticket      0\n",
       "Fare        0\n",
       "Embarked    0\n",
       "Title       0\n",
       "dtype: int64"
      ]
     },
     "execution_count": 23,
     "metadata": {},
     "output_type": "execute_result"
    }
   ],
   "source": [
    "titanic.isnull().sum()"
   ]
  },
  {
   "cell_type": "code",
   "execution_count": 24,
   "id": "b97ee038",
   "metadata": {
    "execution": {
     "iopub.execute_input": "2021-08-08T13:34:38.171261Z",
     "iopub.status.busy": "2021-08-08T13:34:38.170527Z",
     "iopub.status.idle": "2021-08-08T13:34:38.173042Z",
     "shell.execute_reply": "2021-08-08T13:34:38.173621Z",
     "shell.execute_reply.started": "2021-08-08T13:32:53.760627Z"
    },
    "papermill": {
     "duration": 0.049746,
     "end_time": "2021-08-08T13:34:38.173799",
     "exception": false,
     "start_time": "2021-08-08T13:34:38.124053",
     "status": "completed"
    },
    "tags": []
   },
   "outputs": [
    {
     "data": {
      "text/plain": [
       "Pclass      0\n",
       "Name        0\n",
       "Sex         0\n",
       "Age         0\n",
       "SibSp       0\n",
       "Parch       0\n",
       "Ticket      0\n",
       "Fare        0\n",
       "Embarked    0\n",
       "Title       0\n",
       "dtype: int64"
      ]
     },
     "execution_count": 24,
     "metadata": {},
     "output_type": "execute_result"
    }
   ],
   "source": [
    "titanic_test.isnull().sum()"
   ]
  },
  {
   "cell_type": "code",
   "execution_count": 25,
   "id": "44a90600",
   "metadata": {
    "execution": {
     "iopub.execute_input": "2021-08-08T13:34:38.255557Z",
     "iopub.status.busy": "2021-08-08T13:34:38.254923Z",
     "iopub.status.idle": "2021-08-08T13:34:38.271800Z",
     "shell.execute_reply": "2021-08-08T13:34:38.271238Z",
     "shell.execute_reply.started": "2021-08-08T13:32:53.775461Z"
    },
    "papermill": {
     "duration": 0.058783,
     "end_time": "2021-08-08T13:34:38.271938",
     "exception": false,
     "start_time": "2021-08-08T13:34:38.213155",
     "status": "completed"
    },
    "tags": []
   },
   "outputs": [
    {
     "data": {
      "text/html": [
       "<div>\n",
       "<style scoped>\n",
       "    .dataframe tbody tr th:only-of-type {\n",
       "        vertical-align: middle;\n",
       "    }\n",
       "\n",
       "    .dataframe tbody tr th {\n",
       "        vertical-align: top;\n",
       "    }\n",
       "\n",
       "    .dataframe thead th {\n",
       "        text-align: right;\n",
       "    }\n",
       "</style>\n",
       "<table border=\"1\" class=\"dataframe\">\n",
       "  <thead>\n",
       "    <tr style=\"text-align: right;\">\n",
       "      <th></th>\n",
       "      <th>Survived</th>\n",
       "      <th>Pclass</th>\n",
       "      <th>Name</th>\n",
       "      <th>Sex</th>\n",
       "      <th>Age</th>\n",
       "      <th>SibSp</th>\n",
       "      <th>Parch</th>\n",
       "      <th>Ticket</th>\n",
       "      <th>Fare</th>\n",
       "      <th>Embarked</th>\n",
       "      <th>Title</th>\n",
       "    </tr>\n",
       "    <tr>\n",
       "      <th>PassengerId</th>\n",
       "      <th></th>\n",
       "      <th></th>\n",
       "      <th></th>\n",
       "      <th></th>\n",
       "      <th></th>\n",
       "      <th></th>\n",
       "      <th></th>\n",
       "      <th></th>\n",
       "      <th></th>\n",
       "      <th></th>\n",
       "      <th></th>\n",
       "    </tr>\n",
       "  </thead>\n",
       "  <tbody>\n",
       "    <tr>\n",
       "      <th>887</th>\n",
       "      <td>0</td>\n",
       "      <td>2</td>\n",
       "      <td>Montvila, Rev. Juozas</td>\n",
       "      <td>male</td>\n",
       "      <td>27.0</td>\n",
       "      <td>0</td>\n",
       "      <td>0</td>\n",
       "      <td>211536</td>\n",
       "      <td>13.00</td>\n",
       "      <td>S</td>\n",
       "      <td>Rev</td>\n",
       "    </tr>\n",
       "    <tr>\n",
       "      <th>888</th>\n",
       "      <td>1</td>\n",
       "      <td>1</td>\n",
       "      <td>Graham, Miss. Margaret Edith</td>\n",
       "      <td>female</td>\n",
       "      <td>21.0</td>\n",
       "      <td>0</td>\n",
       "      <td>0</td>\n",
       "      <td>112053</td>\n",
       "      <td>30.00</td>\n",
       "      <td>S</td>\n",
       "      <td>Miss</td>\n",
       "    </tr>\n",
       "    <tr>\n",
       "      <th>889</th>\n",
       "      <td>0</td>\n",
       "      <td>3</td>\n",
       "      <td>Johnston, Miss. Catherine Helen \"Carrie\"</td>\n",
       "      <td>female</td>\n",
       "      <td>21.0</td>\n",
       "      <td>1</td>\n",
       "      <td>2</td>\n",
       "      <td>W./C. 6607</td>\n",
       "      <td>23.45</td>\n",
       "      <td>S</td>\n",
       "      <td>Miss</td>\n",
       "    </tr>\n",
       "    <tr>\n",
       "      <th>890</th>\n",
       "      <td>1</td>\n",
       "      <td>1</td>\n",
       "      <td>Behr, Mr. Karl Howell</td>\n",
       "      <td>male</td>\n",
       "      <td>30.0</td>\n",
       "      <td>0</td>\n",
       "      <td>0</td>\n",
       "      <td>111369</td>\n",
       "      <td>30.00</td>\n",
       "      <td>C</td>\n",
       "      <td>Mr</td>\n",
       "    </tr>\n",
       "    <tr>\n",
       "      <th>891</th>\n",
       "      <td>0</td>\n",
       "      <td>3</td>\n",
       "      <td>Dooley, Mr. Patrick</td>\n",
       "      <td>male</td>\n",
       "      <td>30.0</td>\n",
       "      <td>0</td>\n",
       "      <td>0</td>\n",
       "      <td>370376</td>\n",
       "      <td>7.75</td>\n",
       "      <td>Q</td>\n",
       "      <td>Mr</td>\n",
       "    </tr>\n",
       "  </tbody>\n",
       "</table>\n",
       "</div>"
      ],
      "text/plain": [
       "             Survived  Pclass                                      Name  \\\n",
       "PassengerId                                                               \n",
       "887                 0       2                     Montvila, Rev. Juozas   \n",
       "888                 1       1              Graham, Miss. Margaret Edith   \n",
       "889                 0       3  Johnston, Miss. Catherine Helen \"Carrie\"   \n",
       "890                 1       1                     Behr, Mr. Karl Howell   \n",
       "891                 0       3                       Dooley, Mr. Patrick   \n",
       "\n",
       "                Sex   Age  SibSp  Parch      Ticket   Fare Embarked Title  \n",
       "PassengerId                                                                \n",
       "887            male  27.0      0      0      211536  13.00        S   Rev  \n",
       "888          female  21.0      0      0      112053  30.00        S  Miss  \n",
       "889          female  21.0      1      2  W./C. 6607  23.45        S  Miss  \n",
       "890            male  30.0      0      0      111369  30.00        C    Mr  \n",
       "891            male  30.0      0      0      370376   7.75        Q    Mr  "
      ]
     },
     "execution_count": 25,
     "metadata": {},
     "output_type": "execute_result"
    }
   ],
   "source": [
    "titanic.tail()"
   ]
  },
  {
   "cell_type": "code",
   "execution_count": 26,
   "id": "722fbe16",
   "metadata": {
    "execution": {
     "iopub.execute_input": "2021-08-08T13:34:38.369813Z",
     "iopub.status.busy": "2021-08-08T13:34:38.368885Z",
     "iopub.status.idle": "2021-08-08T13:34:38.378255Z",
     "shell.execute_reply": "2021-08-08T13:34:38.379027Z",
     "shell.execute_reply.started": "2021-08-08T13:32:53.796757Z"
    },
    "papermill": {
     "duration": 0.063053,
     "end_time": "2021-08-08T13:34:38.379290",
     "exception": false,
     "start_time": "2021-08-08T13:34:38.316237",
     "status": "completed"
    },
    "tags": []
   },
   "outputs": [],
   "source": [
    "titanic['Sex']=titanic['Sex'].map({'male':0,'female':1})\n",
    "\n",
    "titanic_test['Sex']=titanic_test['Sex'].map({'male':0,'female':1})"
   ]
  },
  {
   "cell_type": "code",
   "execution_count": 27,
   "id": "0a672de4",
   "metadata": {
    "execution": {
     "iopub.execute_input": "2021-08-08T13:34:38.471606Z",
     "iopub.status.busy": "2021-08-08T13:34:38.470647Z",
     "iopub.status.idle": "2021-08-08T13:34:38.473950Z",
     "shell.execute_reply": "2021-08-08T13:34:38.473314Z",
     "shell.execute_reply.started": "2021-08-08T13:32:53.812762Z"
    },
    "papermill": {
     "duration": 0.050132,
     "end_time": "2021-08-08T13:34:38.474086",
     "exception": false,
     "start_time": "2021-08-08T13:34:38.423954",
     "status": "completed"
    },
    "tags": []
   },
   "outputs": [],
   "source": [
    "titanic['Family_members']=titanic['SibSp']+titanic['Parch']\n",
    "titanic_test['Family_members']=titanic_test['SibSp']+titanic_test['Parch']"
   ]
  },
  {
   "cell_type": "code",
   "execution_count": 28,
   "id": "d17dd03f",
   "metadata": {
    "execution": {
     "iopub.execute_input": "2021-08-08T13:34:38.564453Z",
     "iopub.status.busy": "2021-08-08T13:34:38.563450Z",
     "iopub.status.idle": "2021-08-08T13:34:38.566995Z",
     "shell.execute_reply": "2021-08-08T13:34:38.567519Z",
     "shell.execute_reply.started": "2021-08-08T13:32:53.828496Z"
    },
    "papermill": {
     "duration": 0.052324,
     "end_time": "2021-08-08T13:34:38.567693",
     "exception": false,
     "start_time": "2021-08-08T13:34:38.515369",
     "status": "completed"
    },
    "tags": []
   },
   "outputs": [],
   "source": [
    "titanic=titanic.drop(['Name','Ticket','Title'],axis=1)\n",
    "titanic_test=titanic_test.drop(['Name','Ticket','Title'],axis=1)"
   ]
  },
  {
   "cell_type": "code",
   "execution_count": 29,
   "id": "5dd486ec",
   "metadata": {
    "execution": {
     "iopub.execute_input": "2021-08-08T13:34:38.652363Z",
     "iopub.status.busy": "2021-08-08T13:34:38.651429Z",
     "iopub.status.idle": "2021-08-08T13:34:38.668960Z",
     "shell.execute_reply": "2021-08-08T13:34:38.668415Z",
     "shell.execute_reply.started": "2021-08-08T13:32:53.838194Z"
    },
    "papermill": {
     "duration": 0.061021,
     "end_time": "2021-08-08T13:34:38.669103",
     "exception": false,
     "start_time": "2021-08-08T13:34:38.608082",
     "status": "completed"
    },
    "tags": []
   },
   "outputs": [],
   "source": [
    "embarked_dummies=pd.get_dummies(titanic.Embarked,prefix='Embarked')\n",
    "embarked_dummies_test=pd.get_dummies(titanic_test.Embarked,prefix='Embarked')\n",
    "\n",
    "titanic=pd.concat([titanic,embarked_dummies],axis=1)\n",
    "titanic_test=pd.concat([titanic_test,embarked_dummies_test],axis=1)\n",
    "\n",
    "titanic=titanic.drop('Embarked',axis=1)\n",
    "titanic_test=titanic_test.drop('Embarked',axis=1)"
   ]
  },
  {
   "cell_type": "code",
   "execution_count": 30,
   "id": "774f21c5",
   "metadata": {
    "execution": {
     "iopub.execute_input": "2021-08-08T13:34:38.760731Z",
     "iopub.status.busy": "2021-08-08T13:34:38.756568Z",
     "iopub.status.idle": "2021-08-08T13:34:38.766475Z",
     "shell.execute_reply": "2021-08-08T13:34:38.765844Z",
     "shell.execute_reply.started": "2021-08-08T13:32:53.853848Z"
    },
    "papermill": {
     "duration": 0.05734,
     "end_time": "2021-08-08T13:34:38.766613",
     "exception": false,
     "start_time": "2021-08-08T13:34:38.709273",
     "status": "completed"
    },
    "tags": []
   },
   "outputs": [],
   "source": [
    "pclass_dummies=pd.get_dummies(titanic.Pclass,prefix='class')\n",
    "pclass_dummies_test=pd.get_dummies(titanic_test.Pclass,prefix='class')\n",
    "\n",
    "titanic=pd.concat([titanic,pclass_dummies],axis=1)\n",
    "titanic_test=pd.concat([titanic_test,pclass_dummies_test],axis=1)\n",
    "\n",
    "titanic=titanic.drop('Pclass',axis=1)\n",
    "titanic_test=titanic_test.drop('Pclass',axis=1)"
   ]
  },
  {
   "cell_type": "code",
   "execution_count": 31,
   "id": "33487e19",
   "metadata": {
    "execution": {
     "iopub.execute_input": "2021-08-08T13:34:38.849732Z",
     "iopub.status.busy": "2021-08-08T13:34:38.849067Z",
     "iopub.status.idle": "2021-08-08T13:34:39.636433Z",
     "shell.execute_reply": "2021-08-08T13:34:39.635777Z",
     "shell.execute_reply.started": "2021-08-08T13:32:53.872055Z"
    },
    "papermill": {
     "duration": 0.829887,
     "end_time": "2021-08-08T13:34:39.636568",
     "exception": false,
     "start_time": "2021-08-08T13:34:38.806681",
     "status": "completed"
    },
    "tags": []
   },
   "outputs": [],
   "source": [
    "from sklearn.preprocessing import StandardScaler\n",
    "scaler = StandardScaler()\n",
    "# transform data\n",
    "df=titanic.loc[:,['Age','Fare','Family_members']]\n",
    "df_test=titanic_test.loc[:,['Age','Fare','Family_members']]\n",
    "scaled = pd.DataFrame(scaler.fit_transform(df))\n",
    "scaled_test = pd.DataFrame(scaler.transform(df_test))"
   ]
  },
  {
   "cell_type": "code",
   "execution_count": 32,
   "id": "61d066cf",
   "metadata": {
    "execution": {
     "iopub.execute_input": "2021-08-08T13:34:39.722388Z",
     "iopub.status.busy": "2021-08-08T13:34:39.721756Z",
     "iopub.status.idle": "2021-08-08T13:34:39.724845Z",
     "shell.execute_reply": "2021-08-08T13:34:39.724340Z",
     "shell.execute_reply.started": "2021-08-08T13:32:53.887666Z"
    },
    "papermill": {
     "duration": 0.047929,
     "end_time": "2021-08-08T13:34:39.724984",
     "exception": false,
     "start_time": "2021-08-08T13:34:39.677055",
     "status": "completed"
    },
    "tags": []
   },
   "outputs": [],
   "source": [
    "scaled.index=titanic.index\n",
    "scaled.columns=df.columns\n",
    "scaled_test.index=df_test.index\n",
    "scaled_test.columns=df_test.columns"
   ]
  },
  {
   "cell_type": "code",
   "execution_count": 33,
   "id": "61ffb686",
   "metadata": {
    "execution": {
     "iopub.execute_input": "2021-08-08T13:34:39.813845Z",
     "iopub.status.busy": "2021-08-08T13:34:39.813155Z",
     "iopub.status.idle": "2021-08-08T13:34:39.820092Z",
     "shell.execute_reply": "2021-08-08T13:34:39.820566Z",
     "shell.execute_reply.started": "2021-08-08T13:32:53.902457Z"
    },
    "papermill": {
     "duration": 0.055142,
     "end_time": "2021-08-08T13:34:39.820759",
     "exception": false,
     "start_time": "2021-08-08T13:34:39.765617",
     "status": "completed"
    },
    "tags": []
   },
   "outputs": [],
   "source": [
    "titanic.loc[:,['Age','Fare','Family_members']]=scaled.loc[:,['Age','Fare','Family_members']]\n",
    "titanic_test.loc[:,['Age','Fare','Family_members']]=scaled_test.loc[:,['Age','Fare','Family_members']]"
   ]
  },
  {
   "cell_type": "code",
   "execution_count": 34,
   "id": "15800783",
   "metadata": {
    "execution": {
     "iopub.execute_input": "2021-08-08T13:34:39.915036Z",
     "iopub.status.busy": "2021-08-08T13:34:39.909706Z",
     "iopub.status.idle": "2021-08-08T13:34:39.926386Z",
     "shell.execute_reply": "2021-08-08T13:34:39.926881Z",
     "shell.execute_reply.started": "2021-08-08T13:32:53.921993Z"
    },
    "papermill": {
     "duration": 0.065525,
     "end_time": "2021-08-08T13:34:39.927054",
     "exception": false,
     "start_time": "2021-08-08T13:34:39.861529",
     "status": "completed"
    },
    "tags": []
   },
   "outputs": [
    {
     "data": {
      "text/html": [
       "<div>\n",
       "<style scoped>\n",
       "    .dataframe tbody tr th:only-of-type {\n",
       "        vertical-align: middle;\n",
       "    }\n",
       "\n",
       "    .dataframe tbody tr th {\n",
       "        vertical-align: top;\n",
       "    }\n",
       "\n",
       "    .dataframe thead th {\n",
       "        text-align: right;\n",
       "    }\n",
       "</style>\n",
       "<table border=\"1\" class=\"dataframe\">\n",
       "  <thead>\n",
       "    <tr style=\"text-align: right;\">\n",
       "      <th></th>\n",
       "      <th>Survived</th>\n",
       "      <th>Sex</th>\n",
       "      <th>Age</th>\n",
       "      <th>SibSp</th>\n",
       "      <th>Parch</th>\n",
       "      <th>Fare</th>\n",
       "      <th>Family_members</th>\n",
       "      <th>Embarked_C</th>\n",
       "      <th>Embarked_Q</th>\n",
       "      <th>Embarked_S</th>\n",
       "      <th>class_1</th>\n",
       "      <th>class_2</th>\n",
       "      <th>class_3</th>\n",
       "    </tr>\n",
       "    <tr>\n",
       "      <th>PassengerId</th>\n",
       "      <th></th>\n",
       "      <th></th>\n",
       "      <th></th>\n",
       "      <th></th>\n",
       "      <th></th>\n",
       "      <th></th>\n",
       "      <th></th>\n",
       "      <th></th>\n",
       "      <th></th>\n",
       "      <th></th>\n",
       "      <th></th>\n",
       "      <th></th>\n",
       "      <th></th>\n",
       "    </tr>\n",
       "  </thead>\n",
       "  <tbody>\n",
       "    <tr>\n",
       "      <th>1</th>\n",
       "      <td>0</td>\n",
       "      <td>0</td>\n",
       "      <td>0.258797</td>\n",
       "      <td>1</td>\n",
       "      <td>0</td>\n",
       "      <td>-0.502445</td>\n",
       "      <td>0.059160</td>\n",
       "      <td>0</td>\n",
       "      <td>0</td>\n",
       "      <td>1</td>\n",
       "      <td>0</td>\n",
       "      <td>0</td>\n",
       "      <td>1</td>\n",
       "    </tr>\n",
       "    <tr>\n",
       "      <th>2</th>\n",
       "      <td>1</td>\n",
       "      <td>1</td>\n",
       "      <td>0.922361</td>\n",
       "      <td>1</td>\n",
       "      <td>0</td>\n",
       "      <td>0.786845</td>\n",
       "      <td>0.059160</td>\n",
       "      <td>1</td>\n",
       "      <td>0</td>\n",
       "      <td>0</td>\n",
       "      <td>1</td>\n",
       "      <td>0</td>\n",
       "      <td>0</td>\n",
       "    </tr>\n",
       "    <tr>\n",
       "      <th>3</th>\n",
       "      <td>1</td>\n",
       "      <td>1</td>\n",
       "      <td>-0.935618</td>\n",
       "      <td>0</td>\n",
       "      <td>0</td>\n",
       "      <td>-0.488854</td>\n",
       "      <td>-0.560975</td>\n",
       "      <td>0</td>\n",
       "      <td>0</td>\n",
       "      <td>1</td>\n",
       "      <td>0</td>\n",
       "      <td>0</td>\n",
       "      <td>1</td>\n",
       "    </tr>\n",
       "    <tr>\n",
       "      <th>4</th>\n",
       "      <td>1</td>\n",
       "      <td>1</td>\n",
       "      <td>0.922361</td>\n",
       "      <td>1</td>\n",
       "      <td>0</td>\n",
       "      <td>0.420730</td>\n",
       "      <td>0.059160</td>\n",
       "      <td>0</td>\n",
       "      <td>0</td>\n",
       "      <td>1</td>\n",
       "      <td>1</td>\n",
       "      <td>0</td>\n",
       "      <td>0</td>\n",
       "    </tr>\n",
       "    <tr>\n",
       "      <th>5</th>\n",
       "      <td>0</td>\n",
       "      <td>0</td>\n",
       "      <td>0.258797</td>\n",
       "      <td>0</td>\n",
       "      <td>0</td>\n",
       "      <td>-0.486337</td>\n",
       "      <td>-0.560975</td>\n",
       "      <td>0</td>\n",
       "      <td>0</td>\n",
       "      <td>1</td>\n",
       "      <td>0</td>\n",
       "      <td>0</td>\n",
       "      <td>1</td>\n",
       "    </tr>\n",
       "    <tr>\n",
       "      <th>...</th>\n",
       "      <td>...</td>\n",
       "      <td>...</td>\n",
       "      <td>...</td>\n",
       "      <td>...</td>\n",
       "      <td>...</td>\n",
       "      <td>...</td>\n",
       "      <td>...</td>\n",
       "      <td>...</td>\n",
       "      <td>...</td>\n",
       "      <td>...</td>\n",
       "      <td>...</td>\n",
       "      <td>...</td>\n",
       "      <td>...</td>\n",
       "    </tr>\n",
       "    <tr>\n",
       "      <th>887</th>\n",
       "      <td>0</td>\n",
       "      <td>0</td>\n",
       "      <td>-0.139341</td>\n",
       "      <td>0</td>\n",
       "      <td>0</td>\n",
       "      <td>-0.386671</td>\n",
       "      <td>-0.560975</td>\n",
       "      <td>0</td>\n",
       "      <td>0</td>\n",
       "      <td>1</td>\n",
       "      <td>0</td>\n",
       "      <td>1</td>\n",
       "      <td>0</td>\n",
       "    </tr>\n",
       "    <tr>\n",
       "      <th>888</th>\n",
       "      <td>1</td>\n",
       "      <td>1</td>\n",
       "      <td>-0.935618</td>\n",
       "      <td>0</td>\n",
       "      <td>0</td>\n",
       "      <td>-0.044381</td>\n",
       "      <td>-0.560975</td>\n",
       "      <td>0</td>\n",
       "      <td>0</td>\n",
       "      <td>1</td>\n",
       "      <td>1</td>\n",
       "      <td>0</td>\n",
       "      <td>0</td>\n",
       "    </tr>\n",
       "    <tr>\n",
       "      <th>889</th>\n",
       "      <td>0</td>\n",
       "      <td>1</td>\n",
       "      <td>-0.935618</td>\n",
       "      <td>1</td>\n",
       "      <td>2</td>\n",
       "      <td>-0.176263</td>\n",
       "      <td>1.299429</td>\n",
       "      <td>0</td>\n",
       "      <td>0</td>\n",
       "      <td>1</td>\n",
       "      <td>0</td>\n",
       "      <td>0</td>\n",
       "      <td>1</td>\n",
       "    </tr>\n",
       "    <tr>\n",
       "      <th>890</th>\n",
       "      <td>1</td>\n",
       "      <td>0</td>\n",
       "      <td>0.258797</td>\n",
       "      <td>0</td>\n",
       "      <td>0</td>\n",
       "      <td>-0.044381</td>\n",
       "      <td>-0.560975</td>\n",
       "      <td>1</td>\n",
       "      <td>0</td>\n",
       "      <td>0</td>\n",
       "      <td>1</td>\n",
       "      <td>0</td>\n",
       "      <td>0</td>\n",
       "    </tr>\n",
       "    <tr>\n",
       "      <th>891</th>\n",
       "      <td>0</td>\n",
       "      <td>0</td>\n",
       "      <td>0.258797</td>\n",
       "      <td>0</td>\n",
       "      <td>0</td>\n",
       "      <td>-0.492378</td>\n",
       "      <td>-0.560975</td>\n",
       "      <td>0</td>\n",
       "      <td>1</td>\n",
       "      <td>0</td>\n",
       "      <td>0</td>\n",
       "      <td>0</td>\n",
       "      <td>1</td>\n",
       "    </tr>\n",
       "  </tbody>\n",
       "</table>\n",
       "<p>891 rows × 13 columns</p>\n",
       "</div>"
      ],
      "text/plain": [
       "             Survived  Sex       Age  SibSp  Parch      Fare  Family_members  \\\n",
       "PassengerId                                                                    \n",
       "1                   0    0  0.258797      1      0 -0.502445        0.059160   \n",
       "2                   1    1  0.922361      1      0  0.786845        0.059160   \n",
       "3                   1    1 -0.935618      0      0 -0.488854       -0.560975   \n",
       "4                   1    1  0.922361      1      0  0.420730        0.059160   \n",
       "5                   0    0  0.258797      0      0 -0.486337       -0.560975   \n",
       "...               ...  ...       ...    ...    ...       ...             ...   \n",
       "887                 0    0 -0.139341      0      0 -0.386671       -0.560975   \n",
       "888                 1    1 -0.935618      0      0 -0.044381       -0.560975   \n",
       "889                 0    1 -0.935618      1      2 -0.176263        1.299429   \n",
       "890                 1    0  0.258797      0      0 -0.044381       -0.560975   \n",
       "891                 0    0  0.258797      0      0 -0.492378       -0.560975   \n",
       "\n",
       "             Embarked_C  Embarked_Q  Embarked_S  class_1  class_2  class_3  \n",
       "PassengerId                                                                 \n",
       "1                     0           0           1        0        0        1  \n",
       "2                     1           0           0        1        0        0  \n",
       "3                     0           0           1        0        0        1  \n",
       "4                     0           0           1        1        0        0  \n",
       "5                     0           0           1        0        0        1  \n",
       "...                 ...         ...         ...      ...      ...      ...  \n",
       "887                   0           0           1        0        1        0  \n",
       "888                   0           0           1        1        0        0  \n",
       "889                   0           0           1        0        0        1  \n",
       "890                   1           0           0        1        0        0  \n",
       "891                   0           1           0        0        0        1  \n",
       "\n",
       "[891 rows x 13 columns]"
      ]
     },
     "execution_count": 34,
     "metadata": {},
     "output_type": "execute_result"
    }
   ],
   "source": [
    "titanic"
   ]
  },
  {
   "cell_type": "code",
   "execution_count": 35,
   "id": "ec46c5c7",
   "metadata": {
    "execution": {
     "iopub.execute_input": "2021-08-08T13:34:40.010730Z",
     "iopub.status.busy": "2021-08-08T13:34:40.010166Z",
     "iopub.status.idle": "2021-08-08T13:34:40.067978Z",
     "shell.execute_reply": "2021-08-08T13:34:40.068458Z",
     "shell.execute_reply.started": "2021-08-08T13:32:53.943399Z"
    },
    "papermill": {
     "duration": 0.101094,
     "end_time": "2021-08-08T13:34:40.068653",
     "exception": false,
     "start_time": "2021-08-08T13:34:39.967559",
     "status": "completed"
    },
    "tags": []
   },
   "outputs": [],
   "source": [
    "from sklearn.model_selection import train_test_split\n",
    "X_train, X_test, y_train, y_test = train_test_split(titanic.loc[:,titanic.columns!='Survived'],titanic['Survived'], \n",
    "                test_size = 0.20, random_state = 78)"
   ]
  },
  {
   "cell_type": "code",
   "execution_count": 36,
   "id": "8219a2c8",
   "metadata": {
    "execution": {
     "iopub.execute_input": "2021-08-08T13:34:40.152977Z",
     "iopub.status.busy": "2021-08-08T13:34:40.152341Z",
     "iopub.status.idle": "2021-08-08T13:34:40.379466Z",
     "shell.execute_reply": "2021-08-08T13:34:40.378921Z",
     "shell.execute_reply.started": "2021-08-08T13:32:53.958524Z"
    },
    "papermill": {
     "duration": 0.270019,
     "end_time": "2021-08-08T13:34:40.379613",
     "exception": false,
     "start_time": "2021-08-08T13:34:40.109594",
     "status": "completed"
    },
    "tags": []
   },
   "outputs": [
    {
     "name": "stdout",
     "output_type": "stream",
     "text": [
      "0.8324022346368715\n",
      "              precision    recall  f1-score   support\n",
      "\n",
      "           0       0.89      0.84      0.87       116\n",
      "           1       0.74      0.81      0.77        63\n",
      "\n",
      "    accuracy                           0.83       179\n",
      "   macro avg       0.82      0.83      0.82       179\n",
      "weighted avg       0.84      0.83      0.83       179\n",
      "\n",
      "[[98 18]\n",
      " [12 51]]\n"
     ]
    }
   ],
   "source": [
    "#Logistic Regression\n",
    "from sklearn.linear_model import LogisticRegression\n",
    "from sklearn.metrics import accuracy_score,classification_report, confusion_matrix\n",
    "lr=LogisticRegression()\n",
    "lr.fit(X_train,y_train)\n",
    "predictions=lr.predict(X_test)\n",
    "acc=accuracy_score(y_test,predictions)\n",
    "print(acc)\n",
    "print(classification_report(y_test,predictions))\n",
    "print(confusion_matrix(y_test,predictions))"
   ]
  },
  {
   "cell_type": "code",
   "execution_count": 37,
   "id": "958724ab",
   "metadata": {
    "execution": {
     "iopub.execute_input": "2021-08-08T13:34:40.467409Z",
     "iopub.status.busy": "2021-08-08T13:34:40.466702Z",
     "iopub.status.idle": "2021-08-08T13:34:40.524612Z",
     "shell.execute_reply": "2021-08-08T13:34:40.524049Z",
     "shell.execute_reply.started": "2021-08-08T13:32:53.988680Z"
    },
    "papermill": {
     "duration": 0.102186,
     "end_time": "2021-08-08T13:34:40.524768",
     "exception": false,
     "start_time": "2021-08-08T13:34:40.422582",
     "status": "completed"
    },
    "tags": []
   },
   "outputs": [
    {
     "name": "stdout",
     "output_type": "stream",
     "text": [
      "0.8770949720670391\n",
      "              precision    recall  f1-score   support\n",
      "\n",
      "           0       0.91      0.91      0.91       116\n",
      "           1       0.83      0.83      0.83        63\n",
      "\n",
      "    accuracy                           0.88       179\n",
      "   macro avg       0.87      0.87      0.87       179\n",
      "weighted avg       0.88      0.88      0.88       179\n",
      "\n",
      "[[105  11]\n",
      " [ 11  52]]\n"
     ]
    }
   ],
   "source": [
    "from sklearn.svm import SVC\n",
    "svc=SVC(C= 1000, gamma= 0.001,kernel= 'rbf')\n",
    "svc.fit(X_train,y_train)\n",
    "predictions=svc.predict(X_test)\n",
    "acc=accuracy_score(y_test,predictions)\n",
    "print(acc)\n",
    "print(classification_report(y_test,predictions))\n",
    "print(confusion_matrix(y_test,predictions))"
   ]
  },
  {
   "cell_type": "code",
   "execution_count": 38,
   "id": "fcc0addd",
   "metadata": {
    "execution": {
     "iopub.execute_input": "2021-08-08T13:34:40.610493Z",
     "iopub.status.busy": "2021-08-08T13:34:40.609891Z",
     "iopub.status.idle": "2021-08-08T13:34:40.971014Z",
     "shell.execute_reply": "2021-08-08T13:34:40.970502Z",
     "shell.execute_reply.started": "2021-08-08T13:32:54.048657Z"
    },
    "papermill": {
     "duration": 0.405058,
     "end_time": "2021-08-08T13:34:40.971153",
     "exception": false,
     "start_time": "2021-08-08T13:34:40.566095",
     "status": "completed"
    },
    "tags": []
   },
   "outputs": [
    {
     "name": "stdout",
     "output_type": "stream",
     "text": [
      "0.8044692737430168\n",
      "              precision    recall  f1-score   support\n",
      "\n",
      "           0       0.88      0.81      0.84       116\n",
      "           1       0.69      0.79      0.74        63\n",
      "\n",
      "    accuracy                           0.80       179\n",
      "   macro avg       0.79      0.80      0.79       179\n",
      "weighted avg       0.81      0.80      0.81       179\n",
      "\n",
      "[[94 22]\n",
      " [13 50]]\n"
     ]
    }
   ],
   "source": [
    "from sklearn.ensemble import RandomForestClassifier\n",
    "rfc=RandomForestClassifier(n_estimators=100)\n",
    "rfc.fit(X_train,y_train)\n",
    "predictions=rfc.predict(X_test)\n",
    "acc=accuracy_score(y_test,predictions)\n",
    "print(acc)\n",
    "print(classification_report(y_test,predictions))\n",
    "print(confusion_matrix(y_test,predictions))"
   ]
  },
  {
   "cell_type": "code",
   "execution_count": 39,
   "id": "0052540b",
   "metadata": {
    "execution": {
     "iopub.execute_input": "2021-08-08T13:34:41.064697Z",
     "iopub.status.busy": "2021-08-08T13:34:41.063859Z",
     "iopub.status.idle": "2021-08-08T13:34:41.214598Z",
     "shell.execute_reply": "2021-08-08T13:34:41.215227Z",
     "shell.execute_reply.started": "2021-08-08T13:32:54.252347Z"
    },
    "papermill": {
     "duration": 0.202458,
     "end_time": "2021-08-08T13:34:41.215417",
     "exception": false,
     "start_time": "2021-08-08T13:34:41.012959",
     "status": "completed"
    },
    "tags": []
   },
   "outputs": [
    {
     "name": "stdout",
     "output_type": "stream",
     "text": [
      "0.8491620111731844\n",
      "              precision    recall  f1-score   support\n",
      "\n",
      "           0       0.90      0.86      0.88       116\n",
      "           1       0.76      0.83      0.79        63\n",
      "\n",
      "    accuracy                           0.85       179\n",
      "   macro avg       0.83      0.84      0.84       179\n",
      "weighted avg       0.85      0.85      0.85       179\n",
      "\n",
      "[[100  16]\n",
      " [ 11  52]]\n"
     ]
    }
   ],
   "source": [
    "from xgboost import XGBClassifier\n",
    "xgbc=XGBClassifier(n_estimators=100,learning_rate=0.1,gamma=0.1,\n",
    "                   eval_metric='logloss',use_label_encoder=False)\n",
    "xgbc.fit(X_train, y_train, \n",
    "             early_stopping_rounds=5, \n",
    "             eval_set=[(X_test, y_test)], \n",
    "             verbose=False)\n",
    "predictions=xgbc.predict(X_test)\n",
    "acc=accuracy_score(y_test,predictions)\n",
    "print(acc)\n",
    "print(classification_report(y_test,predictions))\n",
    "print(confusion_matrix(y_test,predictions))"
   ]
  },
  {
   "cell_type": "code",
   "execution_count": 40,
   "id": "bdabb415",
   "metadata": {
    "execution": {
     "iopub.execute_input": "2021-08-08T13:34:41.304102Z",
     "iopub.status.busy": "2021-08-08T13:34:41.303159Z",
     "iopub.status.idle": "2021-08-08T13:34:41.468287Z",
     "shell.execute_reply": "2021-08-08T13:34:41.468756Z",
     "shell.execute_reply.started": "2021-08-08T13:32:54.321162Z"
    },
    "papermill": {
     "duration": 0.210585,
     "end_time": "2021-08-08T13:34:41.468926",
     "exception": false,
     "start_time": "2021-08-08T13:34:41.258341",
     "status": "completed"
    },
    "tags": []
   },
   "outputs": [
    {
     "name": "stdout",
     "output_type": "stream",
     "text": [
      "0.8659217877094972\n",
      "              precision    recall  f1-score   support\n",
      "\n",
      "           0       0.90      0.89      0.90       116\n",
      "           1       0.80      0.83      0.81        63\n",
      "\n",
      "    accuracy                           0.87       179\n",
      "   macro avg       0.85      0.86      0.85       179\n",
      "weighted avg       0.87      0.87      0.87       179\n",
      "\n",
      "[[103  13]\n",
      " [ 11  52]]\n"
     ]
    }
   ],
   "source": [
    "from sklearn.ensemble import GradientBoostingClassifier\n",
    "gbc=GradientBoostingClassifier(learning_rate= 0.05, max_depth= 4, n_estimators= 100)\n",
    "gbc.fit(X_train,y_train)\n",
    "predictions=gbc.predict(X_test)\n",
    "acc=accuracy_score(y_test,predictions)\n",
    "print(acc)\n",
    "print(classification_report(y_test,predictions))\n",
    "print(confusion_matrix(y_test,predictions))"
   ]
  },
  {
   "cell_type": "code",
   "execution_count": 41,
   "id": "ab1acd96",
   "metadata": {
    "execution": {
     "iopub.execute_input": "2021-08-08T13:34:41.561225Z",
     "iopub.status.busy": "2021-08-08T13:34:41.560334Z",
     "iopub.status.idle": "2021-08-08T13:34:41.575971Z",
     "shell.execute_reply": "2021-08-08T13:34:41.575405Z",
     "shell.execute_reply.started": "2021-08-08T13:34:07.384640Z"
    },
    "papermill": {
     "duration": 0.064987,
     "end_time": "2021-08-08T13:34:41.576111",
     "exception": false,
     "start_time": "2021-08-08T13:34:41.511124",
     "status": "completed"
    },
    "tags": []
   },
   "outputs": [
    {
     "name": "stdout",
     "output_type": "stream",
     "text": [
      "[0 1 0 0 1 0 1 0 1 0 0 0 1 0 1 1 0 0 1 1 0 1 1 0 1 0 1 0 0 0 0 0 1 1 0 0 1\n",
      " 1 0 0 0 0 0 1 1 0 0 0 1 1 0 0 1 1 0 0 0 0 0 1 0 0 0 1 1 1 1 0 0 1 1 0 1 0\n",
      " 1 0 0 1 0 1 1 0 0 0 0 0 1 1 1 1 1 0 1 0 0 0 1 0 1 0 1 0 0 0 1 0 0 0 0 0 0\n",
      " 1 1 1 1 0 0 1 0 1 1 0 1 0 0 1 0 1 0 0 0 0 0 0 0 0 0 0 1 0 0 1 0 0 0 0 0 0\n",
      " 0 0 1 0 0 1 0 0 1 1 0 1 1 1 1 0 0 1 0 0 1 1 0 0 0 0 0 1 1 0 1 1 0 0 1 0 1\n",
      " 0 1 0 0 0 0 0 1 0 1 0 1 1 0 1 1 1 0 1 0 0 1 0 1 0 0 0 0 1 0 0 1 0 1 0 1 0\n",
      " 1 0 1 1 0 1 0 0 0 1 0 0 0 0 0 0 1 1 1 1 0 0 1 0 1 0 1 1 1 0 0 0 0 0 0 0 1\n",
      " 0 0 0 1 1 0 0 0 0 1 0 0 0 1 1 0 1 0 0 0 0 1 1 1 1 1 0 0 0 0 0 0 1 0 0 0 0\n",
      " 1 0 0 0 0 0 0 0 1 1 0 1 0 1 0 0 0 1 1 1 0 0 0 0 0 0 0 0 1 0 1 0 0 0 1 0 0\n",
      " 1 0 0 0 0 0 1 0 0 0 1 1 1 0 1 0 1 1 0 0 0 1 0 1 0 0 1 0 1 1 0 1 0 0 1 1 0\n",
      " 0 1 0 0 1 1 1 0 0 0 0 0 1 1 0 1 0 0 0 0 0 1 1 0 0 1 0 1 0 0 1 0 1 0 0 0 0\n",
      " 0 1 1 1 1 1 0 1 0 0 1]\n"
     ]
    }
   ],
   "source": [
    "preds_test=svc.predict(titanic_test)\n",
    "print(preds_test)\n",
    "output = pd.DataFrame({'PassengerId': titanic_test.index,\n",
    "                       'Survived': preds_test})\n",
    "output.to_csv('submissions.csv', index=False)"
   ]
  }
 ],
 "metadata": {
  "kernelspec": {
   "display_name": "Python 3",
   "language": "python",
   "name": "python3"
  },
  "language_info": {
   "codemirror_mode": {
    "name": "ipython",
    "version": 3
   },
   "file_extension": ".py",
   "mimetype": "text/x-python",
   "name": "python",
   "nbconvert_exporter": "python",
   "pygments_lexer": "ipython3",
   "version": "3.7.10"
  },
  "papermill": {
   "default_parameters": {},
   "duration": 14.768545,
   "end_time": "2021-08-08T13:34:42.861200",
   "environment_variables": {},
   "exception": null,
   "input_path": "__notebook__.ipynb",
   "output_path": "__notebook__.ipynb",
   "parameters": {},
   "start_time": "2021-08-08T13:34:28.092655",
   "version": "2.3.3"
  }
 },
 "nbformat": 4,
 "nbformat_minor": 5
}
